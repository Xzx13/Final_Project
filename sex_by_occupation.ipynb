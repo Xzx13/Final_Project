{
 "cells": [
  {
   "cell_type": "markdown",
   "metadata": {},
   "source": [
    "# Introduction\n",
    "\n",
    "In this project, we seek to determine the \"best\" neighborhood in Pittsburgh by analyzing local demographics and occupational statistics. The concept of \"best\" can vary significantly depending on the metrics considered, which include factors such as safety, education, amenities, and employment opportunities. For our analysis, we focus on employment as a primary indicator, assessing the diversity and distribution of occupations across neighborhoods.\n",
    "\n",
    "The process involved in deciding on this metric started with a brainstorming session where we considered various aspects of neighborhood livability including education levels, income statistics, housing stability, and job opportunities. After reviewing available datasets, we chose to use occupational data because it provides a tangible measure of economic activity and professional diversity, which are key indicators of a neighborhood’s vibrancy and growth potential.\n",
    "\n",
    "# The Metric\n",
    "\n",
    "The metric we chose revolves around occupational diversity and gender representation in the workforce. We believe that a neighborhood that shows a diverse range of occupations and a balanced gender representation among those occupations might offer a more inclusive and sustainable environment.\n",
    "\n",
    "## Data Description\n",
    "\n",
    "We are utilizing the \"Sex by Occupation\" dataset from the Pittsburgh American Community Survey Census Data from 2014. This dataset includes detailed breakdowns of the types of occupations held by residents, categorized by sex, across different neighborhoods. It provides insights into the kind of work residents are engaged in, which helps in understanding the economic fabric of each neighborhood.\n",
    "\n",
    "**Data Source:**\n",
    "- **Dataset Name:** Sex by Occupation for the Civilian Employed Population 16 Years and Over\n",
    "- **URL:** [Sex by Occupation Dataset](https://data.wprdc.org/dataset/378e4a6c-550c-4e9c-bfb5-ca73c1c29cc7/resource/0b520f07-3f9d-48ce-8e9e-039cddd28417/download/sex-by-occupation-for-the-civilian-employed-population-16-years-and-over.csv)\n",
    "- **Description:** This dataset collects information on the civilian employed population over 16 years based on their reported primary occupations, classified by sex. The dataset was compiled from responses to the 2015 American Community Survey (ACS), which asks respondents to describe their primary job duties and the industry of their employment.\n",
    "\n",
    "## Analytical Approach\n",
    "\n",
    "To analyze this data, we will:\n",
    "1. Calculate the total number of employed individuals in each neighborhood.\n",
    "2. Assess the diversity of occupations using the Shannon-Wiener Diversity Index, a commonly used measure in ecological studies adapted here to measure occupational diversity.\n",
    "3. Evaluate gender balance in each occupation within neighborhoods.\n",
    "\n",
    "By combining these analyses, we can score and rank neighborhoods to identify which one could be considered the \"best\" in terms of occupational diversity and gender equality in the workforce. This comprehensive approach allows us to provide a nuanced view of the employment landscape across Pittsburgh's neighborhoods."
   ]
  },
  {
   "cell_type": "markdown",
   "metadata": {},
   "source": [
    "## The Metric: Defining the \"Best\" Neighborhood in Pittsburgh\n",
    "\n",
    "Our study aims to identify the most thriving neighborhood in Pittsburgh using a data-driven approach. The key indicators for our analysis are occupational diversity and gender representation within the civilian employed population. We hypothesize that the \"best\" neighborhood will demonstrate not only a robust and diverse job market but also equitable gender participation in various occupational sectors. \n",
    "\n",
    "### Features Measured:\n",
    "\n",
    "- **Occupational Diversity**: We evaluate the range of job categories within each neighborhood, from management and business roles to science and arts occupations, as well as service and labor positions. A broad spectrum of job types indicates a neighborhood's economic versatility and potential for sustained growth.\n",
    "\n",
    "- **Gender Representation**: The balance between male and female representation in different occupations is scrutinized to understand how equitable employment opportunities are across genders in each area. This balance is a crucial aspect of social sustainability and inclusiveness.\n",
    "\n",
    "- **Total Employment**: The total count of employed residents offers insight into the neighborhood's economic activity level. High employment suggests a dynamic job market, which is an attractive trait for both current and potential residents.\n",
    "\n",
    "### Dataset Utilized:\n",
    "\n",
    "To construct our metric, we draw upon the comprehensive dataset:\n",
    "\n",
    "- **Dataset Name**: Sex by Occupation for the Civilian Employed Population 16 Years and Over\n",
    "- **Data Source**: Pittsburgh American Community Survey Census Data, 2014\n",
    "- **Accessed From**: [Pittsburgh Regional Data Center](https://data.wprdc.org/dataset/american-community-survey-data)\n",
    "\n",
    "By analyzing this dataset, we aim to paint a detailed picture of Pittsburgh's neighborhoods, identifying not just economic hotspots but also communities that show a commitment to diversity and equality. This metric will serve as a valuable tool for local decision-makers, investors, and residents alike, providing insights that go beyond mere economic output to capture the essence of what truly makes a neighborhood \"the best.\"\n"
   ]
  },
  {
   "cell_type": "markdown",
   "metadata": {},
   "source": []
  }
 ],
 "metadata": {
  "kernelspec": {
   "display_name": "Python 3",
   "language": "python",
   "name": "python3"
  },
  "language_info": {
   "codemirror_mode": {
    "name": "ipython",
    "version": 3
   },
   "file_extension": ".py",
   "mimetype": "text/x-python",
   "name": "python",
   "nbconvert_exporter": "python",
   "pygments_lexer": "ipython3",
   "version": "3.8.3"
  }
 },
 "nbformat": 4,
 "nbformat_minor": 4
}
